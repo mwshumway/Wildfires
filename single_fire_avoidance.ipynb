{
 "cells": [
  {
   "cell_type": "markdown",
   "metadata": {},
   "source": [
    "# Single Fire Avoidance"
   ]
  },
  {
   "cell_type": "code",
   "execution_count": 297,
   "metadata": {},
   "outputs": [],
   "source": [
    "import numpy as np\n",
    "import matplotlib.pyplot as plt\n",
    "import matplotlib.animation as animation\n",
    "from scipy.stats import multivariate_normal\n",
    "from scipy.integrate import solve_bvp"
   ]
  },
  {
   "cell_type": "markdown",
   "metadata": {},
   "source": [
    "## Defining the Obstacle and it's Partial Derivatives \n",
    "### Constant Wind Vector"
   ]
  },
  {
   "cell_type": "markdown",
   "metadata": {},
   "source": [
    "In math --  \n",
    "\n",
    "Parameters:\n",
    "* $(x_0, y_0)$: Initial Location of the Fire.\n",
    "* $\\mathbf{w} = (w_1, w_2)$: Wind Vector\n",
    "* $\\sigma_0$: Initial Standard Deviation\n",
    "* $k$: Growth Rate in Direction of the Wind\n",
    "* $c$: Growth Rate Perpindicular to the Wind\n",
    "\n",
    "We compute the unit vectors in the direction of the wind and perpendicular to the wind:  \n",
    "\n",
    "$$u_x = \\frac{w_1}{||\\mathbf{w}||} \\qquad u_y = \\frac{w_2}{||\\mathbf{w}||} \\qquad u_x^\\perp = -u_y \\qquad u_y^\\perp = u_x $$\n",
    "\n",
    "Then a given time $t$, the mean and variance of the fire are described as follows:  \n",
    "$$\\mu = \\begin{bmatrix}x_0 + w_1t & y_0 + w_2t\\end{bmatrix}$$  \n",
    "$$ \\Sigma = \\begin{bmatrix} u_x^2\\sigma_\\parallel + u_y^2\\sigma_\\perp & u_xu_y(\\sigma_\\parallel - \\sigma_\\perp) \\\\u_xu_y(\\sigma_\\parallel - \\sigma_\\perp) & u_y^2\\sigma_\\parallel + u_x^2\\sigma_\\perp \\end{bmatrix} $$\n",
    "\n",
    "where we define $$ \\sigma_\\parallel = \\sigma_0^2 + kt \\qquad \\sigma_\\perp = \\sigma_0^2 + ct $$\n",
    "\n",
    "Finally, we have our fire defined as $$ F(t, \\mathbf{z}) \\sim \\mathscr{N}\\big(\\mathbf{z} | \\mu(t), \\Sigma(t)\\big) $$\n",
    "\n",
    "Thankfully, $\\Sigma(t)$ has no dependence on $x$ or $y$. Our costate equations will ultimately depend on $F_x$, and $F_y$, so we compute them below.\n",
    "\n",
    "$$\\nabla F = -F\\Sigma^{-1}(\\mathbf{z} - \\mu)$$"
   ]
  },
  {
   "cell_type": "code",
   "execution_count": 298,
   "metadata": {},
   "outputs": [],
   "source": [
    "fire_cost = 5_000 # Cost of fire\n",
    "\n",
    "def fire(t, x, y, x0, y0, w1, w2, u_x, u_y, sigma2_0, k, c):\n",
    "    \"\"\"\n",
    "    Fire dynamics model.\n",
    "    \n",
    "    Parameters:\n",
    "    t (float): Time\n",
    "    x (float): X-coordinate\n",
    "    y (float): Y-coordinate\n",
    "    x0 (float): Initial x-coordinate of fire\n",
    "    y0 (float): Initial y-coordinate of fire\n",
    "    w1 (float): Wind speed in x-direction\n",
    "    w2 (float): Wind speed in y-direction\n",
    "    u_x (float): Wind direction in x (unit vector)\n",
    "    u_y (float): Wind direction in y (unit vector)\n",
    "    sigma2_0 (float): Initial variance\n",
    "    k (float): Growth rate in direction of wind\n",
    "    c (float): Growth rate in direction perpendicular to wind\n",
    "\n",
    "    Returns:\n",
    "    float: Fire intensity at time t\n",
    "    \"\"\"\n",
    "    mu_x = x0 + w1 * t\n",
    "    mu_y = y0 + w2 * t\n",
    "    sigma_parallel = sigma2_0 + k * t\n",
    "    sigma_perp = sigma2_0 + c * t\n",
    "\n",
    "    # Covariance matrix elements for each t\n",
    "    cov_11 = u_x**2 * sigma_parallel + u_y**2 * sigma_perp\n",
    "    cov_12 = u_x * u_y * (sigma_parallel - sigma_perp)\n",
    "    cov_22 = u_y**2 * sigma_parallel + u_x**2 * sigma_perp \n",
    "\n",
    "    # Compute determinant and inverse elements\n",
    "    det = cov_11 * cov_22 - cov_12**2\n",
    "    inv_11 = cov_22 / det\n",
    "    inv_12 = -cov_12 / det\n",
    "    inv_22 = cov_11 / det\n",
    "\n",
    "    dx = x - mu_x\n",
    "    dy = y - mu_y\n",
    "\n",
    "    # Compute exponent\n",
    "    exponent = -0.5 * (inv_11 * dx**2 + 2 * inv_12 * dx * dy + inv_22 * dy**2)\n",
    "    normalization = 1.0 / (2 * np.pi * np.sqrt(det))\n",
    "    return fire_cost * normalization * np.exp(exponent)\n",
    "\n",
    "def grad_fire(t, x, y, x0, y0, w1, w2, u_x, u_y, sigma2_0, k, c):\n",
    "    \"\"\"\n",
    "    Gradient of fire intensity.\n",
    "    \n",
    "    Parameters:\n",
    "    t (float): Time\n",
    "    x (float): X-coordinate\n",
    "    y (float): Y-coordinate\n",
    "    x0 (float): Initial x-coordinate of fire\n",
    "    y0 (float): Initial y-coordinate of fire\n",
    "    w1 (float): Wind speed in x-direction\n",
    "    w2 (float): Wind speed in y-direction\n",
    "    u_x (float): Wind direction in x (unit vector)\n",
    "    u_y (float): Wind direction in y (unit vector)\n",
    "    sigma2_0 (float): Initial variance\n",
    "    k (float): Growth rate in direction of wind\n",
    "    c (float): Growth rate in direction perpendicular to wind\n",
    "\n",
    "    Returns:\n",
    "    np.ndarray: Gradient of fire intensity\n",
    "    \"\"\"\n",
    "    f = fire(t, x, y, x0, y0, w1, w2, u_x, u_y, sigma2_0, k, c)\n",
    "    \n",
    "    mu_x = x0 + w1 * t\n",
    "    mu_y = y0 + w2 * t\n",
    "    sigma_parallel = sigma2_0 + k * t\n",
    "    sigma_perp = sigma2_0 + c * t\n",
    "\n",
    "    # Covariance matrix elements\n",
    "    cov_11 = u_x**2 * sigma_parallel + u_y**2 * sigma_perp\n",
    "    cov_12 = u_x * u_y * (sigma_parallel - sigma_perp)\n",
    "    cov_22 = u_y**2 * sigma_parallel + u_x**2 * sigma_perp \n",
    "\n",
    "    # Compute inverse elements\n",
    "    det = cov_11 * cov_22 - cov_12**2\n",
    "    inv_11 = cov_22 / det\n",
    "    inv_12 = -cov_12 / det\n",
    "    inv_22 = cov_11 / det\n",
    "\n",
    "    dx = x - mu_x\n",
    "    dy = y - mu_y\n",
    "\n",
    "    grad_x = -f * (inv_11 * dx + inv_12 * dy)\n",
    "    grad_y = -f * (inv_12 * dx + inv_22 * dy)\n",
    "    \n",
    "    return grad_x, grad_y"
   ]
  },
  {
   "cell_type": "markdown",
   "metadata": {},
   "source": [
    "## Initial Conditions"
   ]
  },
  {
   "cell_type": "code",
   "execution_count": 299,
   "metadata": {},
   "outputs": [
    {
     "name": "stderr",
     "output_type": "stream",
     "text": [
      "/var/folders/lc/6n3k9ht52fxdnv5mqyw8tngh0000gn/T/ipykernel_4499/1652024533.py:46: RuntimeWarning: overflow encountered in exp\n",
      "  return fire_cost * normalization * np.exp(exponent)\n",
      "/Users/mwshumway/miniconda3/envs/acme3-10/lib/python3.10/site-packages/scipy/integrate/_bvp.py:88: RuntimeWarning: invalid value encountered in subtract\n",
      "  dbc_dya[i] = (bc_new - bc0) / hi\n",
      "/Users/mwshumway/miniconda3/envs/acme3-10/lib/python3.10/site-packages/scipy/integrate/_bvp.py:98: RuntimeWarning: invalid value encountered in subtract\n",
      "  dbc_dyb[i] = (bc_new - bc0) / hi\n",
      "/Users/mwshumway/miniconda3/envs/acme3-10/lib/python3.10/site-packages/scipy/integrate/_bvp.py:111: RuntimeWarning: invalid value encountered in subtract\n",
      "  dbc_dp[i] = (bc_new - bc0) / hi\n"
     ]
    }
   ],
   "source": [
    "# Parameters\n",
    "target = np.array([15., 5.])\n",
    "x0, y0 = 0., 0.\n",
    "w1, w2 = 0.5, 0.5\n",
    "sigma_0 = 0.1\n",
    "k = 2\n",
    "c = 1\n",
    "lam = 100\n",
    "\n",
    "u_norm = np.sqrt(w1**2 + w2**2)\n",
    "u_x = w1 / u_norm\n",
    "u_y = w2 / u_norm\n",
    "\n",
    "s0 = np.array([-5, -5, 0, 0])\n",
    "\n",
    "def fire_ode(t, z, p):\n",
    "    x, y, vx, vy, p1, p2, p3, p4 = z\n",
    "    f_x, f_y = grad_fire(t, x, y, x0, y0, w1, w2, u_x, u_y, sigma_0**2, k, c)\n",
    "    return p[0] * np.array([\n",
    "        vx,\n",
    "        vy,\n",
    "        0.5 * p3 / lam,\n",
    "        0.5 * p4 / lam,\n",
    "        f_x,\n",
    "        f_y,\n",
    "        -p1,\n",
    "        -p2\n",
    "    ])\n",
    "\n",
    "def bc(ya, yb, p):\n",
    "    x, y, vx, vy, p1, p2, p3, p4 = yb\n",
    "    u1, u2 = 0.5 * p3 / lam, 0.5 * p4 / lam\n",
    "    tf = p[0]\n",
    "    H = p1*vx + p2*vy + p3*u1 + p4*u2 - (1 + fire(tf, x, y, x0, y0, w1, w2, u_x, u_y, sigma_0**2, k, c))\n",
    "    return np.array([\n",
    "        ya[0] - s0[0],\n",
    "        ya[1] - s0[1],\n",
    "        ya[2] - s0[2],\n",
    "        ya[3] - s0[3],\n",
    "        yb[0] - target[0],\n",
    "        yb[1] - target[1],\n",
    "        yb[2],\n",
    "        yb[3],\n",
    "        H\n",
    "    ])\n",
    "\n",
    "# Initial mesh and guess\n",
    "t_steps = 10000\n",
    "t = np.linspace(0, 1, t_steps)\n",
    "z0 = np.zeros((8, t_steps))\n",
    "z0[0, :] = np.linspace(s0[0], target[0], t_steps)\n",
    "z0[1, :] = np.linspace(s0[1], target[1], t_steps)\n",
    "p0 = np.array([3.0])\n",
    "\n",
    "# Solve BVP\n",
    "sol = solve_bvp(fire_ode, bc, t, z0, p0, tol=1e-3, max_nodes=100000)"
   ]
  },
  {
   "cell_type": "code",
   "execution_count": 300,
   "metadata": {},
   "outputs": [
    {
     "data": {
      "text/plain": [
       "[<matplotlib.lines.Line2D at 0x17ed0cdc0>]"
      ]
     },
     "execution_count": 300,
     "metadata": {},
     "output_type": "execute_result"
    },
    {
     "data": {
      "image/png": "[encoded data removed]",
      "text/plain": [
       "<Figure size 640x480 with 1 Axes>"
      ]
     },
     "metadata": {},
     "output_type": "display_data"
    }
   ],
   "source": [
    "plt.plot(z0[0], z0[1], label='Initial Position')"
   ]
  },
  {
   "cell_type": "code",
   "execution_count": 301,
   "metadata": {},
   "outputs": [
    {
     "data": {
      "text/plain": [
       "(-5.0, -4.999999999999532)"
      ]
     },
     "execution_count": 301,
     "metadata": {},
     "output_type": "execute_result"
    }
   ],
   "source": [
    "sol.y[0, 0], sol.y[1, 0]"
   ]
  },
  {
   "cell_type": "code",
   "execution_count": 302,
   "metadata": {},
   "outputs": [
    {
     "name": "stdout",
     "output_type": "stream",
     "text": [
      "-28627.069392603997 -28627.069392603997\n"
     ]
    }
   ],
   "source": [
    "tf = sol.p[0]\n",
    "print(sol.p[0], tf)"
   ]
  },
  {
   "cell_type": "code",
   "execution_count": 303,
   "metadata": {},
   "outputs": [
    {
     "name": "stdout",
     "output_type": "stream",
     "text": [
      "3\n"
     ]
    },
    {
     "name": "stderr",
     "output_type": "stream",
     "text": [
      "/var/folders/lc/6n3k9ht52fxdnv5mqyw8tngh0000gn/T/ipykernel_4499/1638364735.py:70: MatplotlibDeprecationWarning: Setting data with a non sequence type is deprecated since 3.7 and will be remove two minor releases later\n",
      "  current_pos.set_data(x_traj[mask][-1], y_traj[mask][-1])\n"
     ]
    },
    {
     "data": {
      "image/png": "[encoded data removed]",
      "text/plain": [
       "<Figure size 800x600 with 1 Axes>"
      ]
     },
     "metadata": {},
     "output_type": "display_data"
    }
   ],
   "source": [
    "# Define the grid for plotting\n",
    "x, y = np.linspace(-10, 20, 100), np.linspace(-10, 10, 100)\n",
    "X, Y = np.meshgrid(x, y)\n",
    "\n",
    "tf = 3\n",
    "print(tf)\n",
    "t_eval = np.linspace(0, tf, t_steps)\n",
    "normalized_time = t_eval / tf\n",
    "x_traj = sol.y[0]\n",
    "y_traj = sol.y[1]\n",
    "\n",
    "# Set up figure\n",
    "fig, ax = plt.subplots(figsize=(8, 6))\n",
    "ax.set_xlim(-10, 20)\n",
    "ax.set_ylim(-10, 10)\n",
    "ax.set_xlabel('X')\n",
    "ax.set_ylabel('Y')\n",
    "ax.set_title('Fire Spread with Agent Trajectory')\n",
    "\n",
    "# Plot static target\n",
    "ax.scatter(target[0], target[1], marker='x', color='red', s=100, label='Target')\n",
    "\n",
    "# Initialize dynamic elements\n",
    "contour = None\n",
    "traj_line, = ax.plot([], [], 'b-', lw=2, label='Agent Trajectory')\n",
    "current_pos, = ax.plot([], [], 'bo', markersize=8, label='Agent')\n",
    "ax.legend()\n",
    "\n",
    "def update(t_anim):\n",
    "    global contour\n",
    "    # Remove old contour if it exists\n",
    "    if contour:\n",
    "        for coll in contour.collections:\n",
    "            coll.remove()\n",
    "    \n",
    "    # Fire parameters at time t_anim\n",
    "    mean_x = x0 + w1 * t_anim\n",
    "    mean_y = y0 + w2 * t_anim\n",
    "    sigma_parallel = sigma_0**2 + k * t_anim\n",
    "    sigma_perp = sigma_0**2 + c * t_anim\n",
    "\n",
    "    cov_11 = u_x**2 * sigma_parallel + u_y**2 * sigma_perp\n",
    "    cov_12 = u_x * u_y * (sigma_parallel - sigma_perp)\n",
    "    cov_22 = u_y**2 * sigma_parallel + u_x**2 * sigma_perp\n",
    "\n",
    "    Sigma = np.array([[cov_11, cov_12], [cov_12, cov_22]])\n",
    "\n",
    "    # Stabilize Sigma if necessary\n",
    "    min_eig = np.linalg.eigvalsh(Sigma).min()\n",
    "    if min_eig <= 0:\n",
    "        Sigma += 1e-6 * np.eye(2)\n",
    "\n",
    "    # Manual PDF\n",
    "    det = cov_11 * cov_22 - cov_12**2\n",
    "    inv_11 = cov_22 / det\n",
    "    inv_12 = -cov_12 / det\n",
    "    inv_22 = cov_11 / det\n",
    "    dx = X - mean_x\n",
    "    dy = Y - mean_y\n",
    "    exponent = -0.5 * (inv_11 * dx**2 + 2 * inv_12 * dx * dy + inv_22 * dy**2)\n",
    "    Z = np.exp(exponent) / (2 * np.pi * np.sqrt(det))\n",
    "\n",
    "    # Plot fire density\n",
    "    contour = ax.contourf(X, Y, Z, levels=20, cmap='hot', alpha=0.6)\n",
    "\n",
    "    # Update trajectory\n",
    "    mask = t_eval <= t_anim\n",
    "    traj_line.set_data(x_traj[mask], y_traj[mask])\n",
    "    if mask.any():\n",
    "        current_pos.set_data(x_traj[mask][-1], y_traj[mask][-1])\n",
    "    \n",
    "    # Don't return anything for blitting, just rely on full redraw\n",
    "    return []\n",
    "\n",
    "# Animate without blitting (works reliably with contourf)\n",
    "t_values = np.linspace(0, tf, 50)\n",
    "ani = animation.FuncAnimation(\n",
    "    fig, update, frames=t_values,\n",
    "    blit=False, interval=50, repeat=True\n",
    ")\n",
    "\n",
    "ani.save('fire_spread_with_trajectory.mp4', writer='ffmpeg', fps=15)\n",
    "plt.show()\n"
   ]
  },
  {
   "cell_type": "code",
   "execution_count": null,
   "metadata": {},
   "outputs": [],
   "source": []
  },
  {
   "cell_type": "code",
   "execution_count": null,
   "metadata": {},
   "outputs": [],
   "source": []
  }
 ],
 "metadata": {
  "kernelspec": {
   "display_name": "Python 3",
   "language": "python",
   "name": "python3"
  },
  "language_info": {
   "codemirror_mode": {
    "name": "ipython",
    "version": 3
   },
   "file_extension": ".py",
   "mimetype": "text/x-python",
   "name": "python",
   "nbconvert_exporter": "python",
   "pygments_lexer": "ipython3",
   "version": "3.10.12"
  }
 },
 "nbformat": 4,
 "nbformat_minor": 2
}
