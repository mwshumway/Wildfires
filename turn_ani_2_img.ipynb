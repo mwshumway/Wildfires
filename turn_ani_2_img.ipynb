{
 "cells": [
  {
   "cell_type": "code",
   "execution_count": 12,
   "id": "d9590a1c",
   "metadata": {},
   "outputs": [],
   "source": [
    "import cv2\n",
    "import os"
   ]
  },
  {
   "cell_type": "code",
   "execution_count": 13,
   "id": "5c082219",
   "metadata": {},
   "outputs": [],
   "source": [
    "def extract_frames(input_dir, video_path, output_folder, frame_numbers=None, interval=None):\n",
    "\n",
    "    cap = cv2.VideoCapture(input_dir + video_path + '.mp4')\n",
    "\n",
    "    if not cap.isOpened():\n",
    "        print(f\"Error: Could not open video file {video_path}\")\n",
    "        return\n",
    "\n",
    "    total_frames = int(cap.get(cv2.CAP_PROP_FRAME_COUNT))\n",
    "    print(f\"Total frames in video: {total_frames}\")\n",
    "\n",
    "    current_frame = 0\n",
    "    while True:\n",
    "        ret, frame = cap.read()\n",
    "        if not ret:\n",
    "            break  # End of video\n",
    "\n",
    "        save_frame = False\n",
    "\n",
    "        if frame_numbers is not None:\n",
    "            if current_frame in frame_numbers:\n",
    "                save_frame = True\n",
    "        elif interval is not None:\n",
    "            if current_frame % interval == 0:\n",
    "                save_frame = True\n",
    "\n",
    "        if save_frame:\n",
    "            filename = os.path.join(output_folder, f\"{video_path}_{current_frame}.png\")\n",
    "            cv2.imwrite(filename, frame)\n",
    "            print(f\"Saved {filename}\")\n",
    "\n",
    "        current_frame += 1\n",
    "\n",
    "    cap.release()\n",
    "    print(\"Frame extraction complete.\")"
   ]
  },
  {
   "cell_type": "code",
   "execution_count": null,
   "id": "89576449",
   "metadata": {},
   "outputs": [
    {
     "name": "stdout",
     "output_type": "stream",
     "text": [
      "Total frames in video: 100\n",
      "Saved images/fire3_drone_varyw_windcost_50.png\n",
      "Saved images/fire3_drone_varyw_windcost_70.png\n",
      "Saved images/fire3_drone_varyw_windcost_99.png\n",
      "Frame extraction complete.\n"
     ]
    }
   ],
   "source": [
    "input_dir = \"animations/\"\n",
    "video_file = \"fire3_stocastic_wind\"\n",
    "output_dir = \"images\"\n",
    "\n",
    "\n",
    "frame_indices = [50, 70, 99]\n",
    "extract_frames(input_dir, video_file, output_dir, frame_numbers=frame_indices)\n",
    "\n",
    "# you could also get every nth frame"
   ]
  }
 ],
 "metadata": {
  "kernelspec": {
   "display_name": "ACME",
   "language": "python",
   "name": "python3"
  },
  "language_info": {
   "codemirror_mode": {
    "name": "ipython",
    "version": 3
   },
   "file_extension": ".py",
   "mimetype": "text/x-python",
   "name": "python",
   "nbconvert_exporter": "python",
   "pygments_lexer": "ipython3",
   "version": "3.10.12"
  }
 },
 "nbformat": 4,
 "nbformat_minor": 5
}
